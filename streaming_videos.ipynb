{
 "cells": [
  {
   "cell_type": "markdown",
   "id": "d04c6591",
   "metadata": {},
   "source": [
    "# Streaming Videos Cache Optimization Problem\n",
    "Using cache servers, we can optimize requests for videos from a data center to endpoints. Based on the predicted requests from endpoints, can we find a way to optimize the distribution and storage of said videos?"
   ]
  },
  {
   "cell_type": "markdown",
   "id": "e4340f43",
   "metadata": {},
   "source": [
    "## Input\n",
    "Data is provided as text. We can parse said data into various tokens. We read from `input.txt` in this case.\n",
    "The `problem_description` variable holds, in order, from 0 to 4, the number of videos, number of endpoints, number of request descriptions, number of cache servers, and the capacity of each cache server in megabytes."
   ]
  },
  {
   "cell_type": "code",
   "execution_count": null,
   "id": "41de98bf-39dd-47ee-ad0a-84030113bc18",
   "metadata": {},
   "outputs": [],
   "source": [
    "problem_description = []\n",
    "with open('data/input.txt', 'r') as file:\n",
    "    line = file.readline()\n",
    "    tokens = line.strip().split()\n",
    "    for token in tokens:\n",
    "        problem_description.append(int(token))"
   ]
  }
 ],
 "metadata": {
  "kernelspec": {
   "display_name": "Python 3 (ipykernel)",
   "language": "python",
   "name": "python3"
  },
  "language_info": {
   "codemirror_mode": {
    "name": "ipython",
    "version": 3
   },
   "file_extension": ".py",
   "mimetype": "text/x-python",
   "name": "python",
   "nbconvert_exporter": "python",
   "pygments_lexer": "ipython3",
   "version": "3.13.2"
  }
 },
 "nbformat": 4,
 "nbformat_minor": 5
}
