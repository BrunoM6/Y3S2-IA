{
 "cells": [
  {
   "cell_type": "code",
   "execution_count": null,
   "id": "41de98bf-39dd-47ee-ad0a-84030113bc18",
   "metadata": {},
   "outputs": [],
   "source": []
  }
 ],
 "metadata": {
  "kernelspec": {
   "display_name": "",
   "name": ""
  },
  "language_info": {
   "name": ""
  }
 },
 "nbformat": 4,
 "nbformat_minor": 5
}
