{
 "cells": [
  {
   "cell_type": "markdown",
   "id": "c52f83a4",
   "metadata": {},
   "source": [
    "# Fraud detection in online sales\n",
    "We have a large dataset pertaining to online e-commerce sales, labeled as fraudulent and non-fraudulent, and our objective is to develop a machine learning solution to classify future sales based on a set of information parameters given."
   ]
  },
  {
   "cell_type": "markdown",
   "id": "7ce64abe",
   "metadata": {},
   "source": [
    "## Viewing of Data\n",
    "Initially, we want to observe the shape of data, frequence of the classification feature, so that we can see if we need to fill-in/exclude any data, or take any other preprocessing steps to maintain a balanced approach without over-representation, over-fitting or misleading data."
   ]
  },
  {
   "cell_type": "code",
   "execution_count": 9,
   "id": "3b25e4fa",
   "metadata": {},
   "outputs": [
    {
     "name": "stdout",
     "output_type": "stream",
     "text": [
      "Dataset Shape: (300000, 14)\n",
      "\n",
      "Data Types:\n",
      " Transaction.Date       object\n",
      "Transaction.Amount    float64\n",
      "Customer.Age            int64\n",
      "Is.Fraudulent           int64\n",
      "Account.Age.Days        int64\n",
      "Transaction.Hour        int64\n",
      "source                 object\n",
      "browser                object\n",
      "sex                    object\n",
      "Payment.Method         object\n",
      "Product.Category       object\n",
      "Quantity                int64\n",
      "Device.Used            object\n",
      "Address.Match           int64\n",
      "dtype: object\n",
      "\n",
      "First Rows:\n",
      "       Transaction.Date  Transaction.Amount  Customer.Age  Is.Fraudulent  \\\n",
      "0  2024-02-12 10:05:21              145.98            29              0   \n",
      "1  2024-01-25 22:24:06              677.62            40              0   \n",
      "2  2024-03-26 20:32:44              798.63            40              0   \n",
      "3  2024-01-07 23:14:51              314.65            34              0   \n",
      "4  2024-01-19 11:01:19              119.80            11              1   \n",
      "\n",
      "   Account.Age.Days  Transaction.Hour  source  browser sex Payment.Method  \\\n",
      "0               172                10     Ads       IE   F    credit card   \n",
      "1               250                22  Direct  FireFox   M    credit card   \n",
      "2               118                20     Ads   Chrome   M         PayPal   \n",
      "3               187                23     SEO       IE   M  bank transfer   \n",
      "4                 5                11  Direct   Safari   M         PayPal   \n",
      "\n",
      "  Product.Category  Quantity Device.Used  Address.Match  \n",
      "0    home & garden         3      mobile              1  \n",
      "1         clothing         3     desktop              1  \n",
      "2         clothing         3      mobile              1  \n",
      "3     toys & games         3     desktop              1  \n",
      "4     toys & games         3      tablet              1  \n",
      "\n",
      "Transaction Data Distribution:\n",
      " Transaction.Date\n",
      "2015-09-10 09:04:53    3\n",
      "2024-02-29 18:05:02    3\n",
      "2024-03-22 05:20:54    3\n",
      "2024-02-09 23:04:53    3\n",
      "2015-07-17 23:22:55    3\n",
      "                      ..\n",
      "2015-03-26 03:23:40    1\n",
      "2015-08-01 06:19:40    1\n",
      "2015-06-24 09:12:34    1\n",
      "2015-03-10 23:41:13    1\n",
      "2024-02-03 01:20:27    1\n",
      "Name: count, Length: 298196, dtype: int64\n"
     ]
    }
   ],
   "source": [
    "# data processing and view\n",
    "import pandas as pd\n",
    "import numpy as np\n",
    "import matplotlib.pyplot as plt\n",
    "import seaborn as sns\n",
    "\n",
    "# machine learning tools\n",
    "from sklearn.model_selection import train_test_split\n",
    "from sklearn.preprocessing import StandardScaler, LabelEncoder\n",
    "\n",
    "# load dataset\n",
    "dataset = pd.read_csv('dataset/merged_dataset.csv')\n",
    "\n",
    "# shape, types and example\n",
    "print(\"Dataset Shape:\", dataset.shape)\n",
    "print(\"\\nData Types:\\n\", dataset.dtypes)\n",
    "print(\"\\nFirst Rows:\\n\", dataset.head())\n",
    "\n",
    "# feature distribution\n",
    "print(\"\\nTransaction Data Distribution:\\n\", dataset['Transaction.Date'].value_counts())"
   ]
  },
  {
   "cell_type": "markdown",
   "id": "06fd0ea5",
   "metadata": {},
   "source": [
    "### Conclusions on Viewing\n",
    "We have a large dataset, with 300000 individual labeled cases, with 13 features, mixed numeric and categoric, which means we will need to encode categorical variables before modeling. <br>\n",
    "We also have a 13 to 1 distribution of non-fraudulent vs fraudulent cases, which means a highly imbalaced dataset, meaning accuracy will be a misleading metric, and precision, recall and f1-score will be more expressive of the model's peformance. <br>\n",
    "We might need techniques for handling imbalance, like oversampling, undersampling or class weighting in algorithms. <br>"
   ]
  },
  {
   "cell_type": "markdown",
   "id": "eba4ea1a",
   "metadata": {},
   "source": [
    "## Feature Preprocessing\n",
    "Simple checking (valid values and not-null) and processing of multiple features and cleaning up of the data into a new file."
   ]
  },
  {
   "cell_type": "code",
   "execution_count": null,
   "id": "e3518e65",
   "metadata": {},
   "outputs": [],
   "source": [
    "def validate_row(row):\n",
    "    errors = []\n",
    "\n",
    "    try:\n",
    "        pd.to_datetime(row['Transaction.Date'])\n",
    "    except Exception:\n",
    "        errors.append('Invalid Transaction.Date')\n",
    "\n",
    "    if not isinstance(row['Transaction.Amount'], (int, float)) or row['Transaction.Amount'] < 0:\n",
    "        errors.append('Invalid Transaction.Amount')\n",
    "    \n",
    "\n",
    "    if row['Is.Fraudulent'] not in [0, 1]:\n",
    "        errors.append('Invalid Is.Fraudulent')\n",
    "\n",
    "    if not isinstance(row['Account.Age.Days'], (int, float)) or not (row['Account.Age.Days'] <= 0 or row['Account.Age.Days'] <= 365):\n",
    "        errors.appned('Invalid Account.Age.Days')\n",
    "    \n",
    "    if not isinstance(row['Transaction.Hour'], (int, float)) or not (0 <= row['Transaction.Hour'] <= 23):\n",
    "        errors.append('Invalid Transaction.Hour')\n",
    "    \n",
    "    if row['source'] not in ['Ads', 'SEO', 'Direct']:\n",
    "        errors.append('Invalid source')\n",
    "    \n",
    "    if row['browser'] not in ['Chrome', 'Safari', 'IE', 'FireFox', 'Edge']:\n",
    "        errors.append('Invalid source')\n",
    "\n",
    "    if row['sex'] not in ['M', 'F']:\n",
    "        errors.append('Invalid sex')\n",
    "\n",
    "    if row['Payment.Method'] not in ['credit card', 'debit card', 'PayPal', 'bank transfer']:\n",
    "        errors.append('Invalid Payment.Method')\n",
    "\n",
    "    if row['Product.Category'] not in ['clothing', 'health & beauty', 'home & garden', 'sports & outdoors', 'toys & games']:\n",
    "        errors.append('Invalid Product.Category')\n",
    "\n",
    "    if not isinstance(row['Quantity'], (int, float)) or not (1 <= row['Quantity'] <= 5):\n",
    "        errors.append('Invalid Quantity')\n",
    "\n",
    "    if row['Device.Used'] not in ['mobile', 'desktop', 'tablet']:\n",
    "        errors.append('Invalid Device.Used')\n",
    "\n",
    "    if row['Address.Match'] not in [0, 1]:\n",
    "        errors.append('Invalid Address.Match')\n",
    "\n",
    "    return errors"
   ]
  }
 ],
 "metadata": {
  "kernelspec": {
   "display_name": "iart",
   "language": "python",
   "name": "python3"
  },
  "language_info": {
   "codemirror_mode": {
    "name": "ipython",
    "version": 3
   },
   "file_extension": ".py",
   "mimetype": "text/x-python",
   "name": "python",
   "nbconvert_exporter": "python",
   "pygments_lexer": "ipython3",
   "version": "3.13.2"
  }
 },
 "nbformat": 4,
 "nbformat_minor": 5
}
